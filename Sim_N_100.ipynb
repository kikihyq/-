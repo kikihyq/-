{
 "cells": [
  {
   "cell_type": "code",
   "execution_count": 1,
   "id": "e79e5c45",
   "metadata": {},
   "outputs": [
    {
     "name": "stdout",
     "output_type": "stream",
     "text": [
      "(22507154, 4)\n",
      "userID        object\n",
      "itemID        object\n",
      "rating       float64\n",
      "timestamp      int64\n",
      "dtype: object\n"
     ]
    },
    {
     "data": {
      "text/plain": [
       "(800000, 4)"
      ]
     },
     "execution_count": 1,
     "metadata": {},
     "output_type": "execute_result"
    }
   ],
   "source": [
    "import pandas as pd\n",
    "import random\n",
    "import numpy as np\n",
    "import seaborn as sns \n",
    "sns.set(style=\"darkgrid\", font_scale=1.2) \n",
    "import matplotlib.pyplot as plt\n",
    "from numpy.linalg import norm\n",
    "\n",
    "data=pd.read_csv('E:\\\\Essay\\\\ratings_Books(1).csv')\n",
    "data.columns =[\"userID\", \"itemID\", \"rating\",'timestamp']\n",
    "data.head(5)\n",
    "data1 = data.copy()   #使用data1进行操作，避免误触data原数据又要再读取浪费时间\n",
    "print(data.shape)\n",
    "print(data.dtypes)\n",
    "num_test=800000\n",
    "data_final = data1.iloc[:num_test,0:]\n",
    "data_final.shape\n"
   ]
  },
  {
   "cell_type": "markdown",
   "id": "07ac756d",
   "metadata": {},
   "source": [
    "## 对不同N =100 / 50进行实验\n",
    "### 在del_index = users_count[users_count<100].index    \n",
    "### 100换50即可"
   ]
  },
  {
   "cell_type": "code",
   "execution_count": 2,
   "id": "8e964b62",
   "metadata": {},
   "outputs": [
    {
     "name": "stdout",
     "output_type": "stream",
     "text": [
      "样本数据data_final_1中的用户数 =  55\n",
      "样本数据data_final_1中的产品数 =  6087\n"
     ]
    },
    {
     "data": {
      "text/html": [
       "<div>\n",
       "<style scoped>\n",
       "    .dataframe tbody tr th:only-of-type {\n",
       "        vertical-align: middle;\n",
       "    }\n",
       "\n",
       "    .dataframe tbody tr th {\n",
       "        vertical-align: top;\n",
       "    }\n",
       "\n",
       "    .dataframe thead th {\n",
       "        text-align: right;\n",
       "    }\n",
       "</style>\n",
       "<table border=\"1\" class=\"dataframe\">\n",
       "  <thead>\n",
       "    <tr style=\"text-align: right;\">\n",
       "      <th>itemID</th>\n",
       "      <th>000077135X</th>\n",
       "      <th>000100039X</th>\n",
       "      <th>0001501232</th>\n",
       "      <th>0001839233</th>\n",
       "      <th>0001847775</th>\n",
       "      <th>0001848062</th>\n",
       "      <th>0001850032</th>\n",
       "      <th>0001850164</th>\n",
       "      <th>0002005395</th>\n",
       "      <th>0002007770</th>\n",
       "      <th>...</th>\n",
       "      <th>0062020161</th>\n",
       "      <th>006202017X</th>\n",
       "      <th>0062020188</th>\n",
       "      <th>0062020447</th>\n",
       "      <th>0062020455</th>\n",
       "      <th>006202048X</th>\n",
       "      <th>0062020560</th>\n",
       "      <th>0062020617</th>\n",
       "      <th>0062020625</th>\n",
       "      <th>0062020633</th>\n",
       "    </tr>\n",
       "  </thead>\n",
       "  <tbody>\n",
       "    <tr>\n",
       "      <th>0</th>\n",
       "      <td>0.0</td>\n",
       "      <td>0.0</td>\n",
       "      <td>0.0</td>\n",
       "      <td>0.0</td>\n",
       "      <td>0.0</td>\n",
       "      <td>0.0</td>\n",
       "      <td>0.0</td>\n",
       "      <td>0.0</td>\n",
       "      <td>0.0</td>\n",
       "      <td>0.0</td>\n",
       "      <td>...</td>\n",
       "      <td>0.0</td>\n",
       "      <td>0.0</td>\n",
       "      <td>0.0</td>\n",
       "      <td>0.0</td>\n",
       "      <td>0.0</td>\n",
       "      <td>0.0</td>\n",
       "      <td>0.0</td>\n",
       "      <td>0.0</td>\n",
       "      <td>0.0</td>\n",
       "      <td>0.0</td>\n",
       "    </tr>\n",
       "    <tr>\n",
       "      <th>1</th>\n",
       "      <td>0.0</td>\n",
       "      <td>0.0</td>\n",
       "      <td>0.0</td>\n",
       "      <td>0.0</td>\n",
       "      <td>0.0</td>\n",
       "      <td>0.0</td>\n",
       "      <td>0.0</td>\n",
       "      <td>0.0</td>\n",
       "      <td>0.0</td>\n",
       "      <td>0.0</td>\n",
       "      <td>...</td>\n",
       "      <td>0.0</td>\n",
       "      <td>0.0</td>\n",
       "      <td>0.0</td>\n",
       "      <td>0.0</td>\n",
       "      <td>0.0</td>\n",
       "      <td>0.0</td>\n",
       "      <td>0.0</td>\n",
       "      <td>0.0</td>\n",
       "      <td>0.0</td>\n",
       "      <td>0.0</td>\n",
       "    </tr>\n",
       "    <tr>\n",
       "      <th>2</th>\n",
       "      <td>0.0</td>\n",
       "      <td>0.0</td>\n",
       "      <td>0.0</td>\n",
       "      <td>0.0</td>\n",
       "      <td>0.0</td>\n",
       "      <td>0.0</td>\n",
       "      <td>0.0</td>\n",
       "      <td>0.0</td>\n",
       "      <td>0.0</td>\n",
       "      <td>0.0</td>\n",
       "      <td>...</td>\n",
       "      <td>0.0</td>\n",
       "      <td>0.0</td>\n",
       "      <td>0.0</td>\n",
       "      <td>0.0</td>\n",
       "      <td>0.0</td>\n",
       "      <td>0.0</td>\n",
       "      <td>0.0</td>\n",
       "      <td>0.0</td>\n",
       "      <td>0.0</td>\n",
       "      <td>0.0</td>\n",
       "    </tr>\n",
       "    <tr>\n",
       "      <th>3</th>\n",
       "      <td>0.0</td>\n",
       "      <td>0.0</td>\n",
       "      <td>0.0</td>\n",
       "      <td>0.0</td>\n",
       "      <td>0.0</td>\n",
       "      <td>0.0</td>\n",
       "      <td>0.0</td>\n",
       "      <td>0.0</td>\n",
       "      <td>0.0</td>\n",
       "      <td>0.0</td>\n",
       "      <td>...</td>\n",
       "      <td>0.0</td>\n",
       "      <td>0.0</td>\n",
       "      <td>0.0</td>\n",
       "      <td>0.0</td>\n",
       "      <td>0.0</td>\n",
       "      <td>0.0</td>\n",
       "      <td>0.0</td>\n",
       "      <td>0.0</td>\n",
       "      <td>0.0</td>\n",
       "      <td>0.0</td>\n",
       "    </tr>\n",
       "    <tr>\n",
       "      <th>4</th>\n",
       "      <td>0.0</td>\n",
       "      <td>0.0</td>\n",
       "      <td>0.0</td>\n",
       "      <td>0.0</td>\n",
       "      <td>0.0</td>\n",
       "      <td>0.0</td>\n",
       "      <td>0.0</td>\n",
       "      <td>0.0</td>\n",
       "      <td>0.0</td>\n",
       "      <td>0.0</td>\n",
       "      <td>...</td>\n",
       "      <td>0.0</td>\n",
       "      <td>0.0</td>\n",
       "      <td>0.0</td>\n",
       "      <td>0.0</td>\n",
       "      <td>0.0</td>\n",
       "      <td>0.0</td>\n",
       "      <td>0.0</td>\n",
       "      <td>0.0</td>\n",
       "      <td>0.0</td>\n",
       "      <td>0.0</td>\n",
       "    </tr>\n",
       "  </tbody>\n",
       "</table>\n",
       "<p>5 rows × 6087 columns</p>\n",
       "</div>"
      ],
      "text/plain": [
       "itemID  000077135X  000100039X  0001501232  0001839233  0001847775  \\\n",
       "0              0.0         0.0         0.0         0.0         0.0   \n",
       "1              0.0         0.0         0.0         0.0         0.0   \n",
       "2              0.0         0.0         0.0         0.0         0.0   \n",
       "3              0.0         0.0         0.0         0.0         0.0   \n",
       "4              0.0         0.0         0.0         0.0         0.0   \n",
       "\n",
       "itemID  0001848062  0001850032  0001850164  0002005395  0002007770  ...  \\\n",
       "0              0.0         0.0         0.0         0.0         0.0  ...   \n",
       "1              0.0         0.0         0.0         0.0         0.0  ...   \n",
       "2              0.0         0.0         0.0         0.0         0.0  ...   \n",
       "3              0.0         0.0         0.0         0.0         0.0  ...   \n",
       "4              0.0         0.0         0.0         0.0         0.0  ...   \n",
       "\n",
       "itemID  0062020161  006202017X  0062020188  0062020447  0062020455  \\\n",
       "0              0.0         0.0         0.0         0.0         0.0   \n",
       "1              0.0         0.0         0.0         0.0         0.0   \n",
       "2              0.0         0.0         0.0         0.0         0.0   \n",
       "3              0.0         0.0         0.0         0.0         0.0   \n",
       "4              0.0         0.0         0.0         0.0         0.0   \n",
       "\n",
       "itemID  006202048X  0062020560  0062020617  0062020625  0062020633  \n",
       "0              0.0         0.0         0.0         0.0         0.0  \n",
       "1              0.0         0.0         0.0         0.0         0.0  \n",
       "2              0.0         0.0         0.0         0.0         0.0  \n",
       "3              0.0         0.0         0.0         0.0         0.0  \n",
       "4              0.0         0.0         0.0         0.0         0.0  \n",
       "\n",
       "[5 rows x 6087 columns]"
      ]
     },
     "execution_count": 2,
     "metadata": {},
     "output_type": "execute_result"
    }
   ],
   "source": [
    "\n",
    "users_count = data_final.userID.value_counts()\n",
    "users_count\n",
    "\n",
    "\n",
    "del_index = users_count[users_count<100].index                     #要删除的index=评分个数小于100的用户数据\n",
    "data_final_1 = data_final[~data_final.userID.isin(del_index)]     \n",
    "len(data_final_1)\n",
    "data_final_1.shape\n",
    "\n",
    "# Number of unique user id and product id in the sample dataset\n",
    "print('样本数据data_final_1中的用户数 = ', data_final_1['userID'].nunique())\n",
    "print('样本数据data_final_1中的产品数 = ', data_final_1['itemID'].nunique())\n",
    "\n",
    "# 得到用户-商品评分矩阵\n",
    "rating_matrix = data_final_1.pivot(index='userID',columns='itemID',values='rating')\n",
    "rating_matrix.head()\n",
    "final_ratings_matrix = rating_matrix.fillna(0)\n",
    "final_ratings_matrix.head()\n",
    "# 重新给userID编号,因为data_final_1不存在一个用户给同一本书两次评分，所以形成的用户-商品矩阵的用户不存在重复\n",
    "final_ratings_matrix.reset_index(drop = True,inplace = True)\n",
    "final_ratings_matrix.head()"
   ]
  },
  {
   "cell_type": "markdown",
   "id": "e7774d3f",
   "metadata": {},
   "source": [
    "# 评分矩阵R"
   ]
  },
  {
   "cell_type": "code",
   "execution_count": 3,
   "id": "a2012398",
   "metadata": {},
   "outputs": [
    {
     "data": {
      "text/plain": [
       "array([[0., 0., 0., ..., 0., 0., 0.],\n",
       "       [0., 0., 0., ..., 0., 0., 0.],\n",
       "       [0., 0., 0., ..., 0., 0., 0.],\n",
       "       ...,\n",
       "       [0., 0., 0., ..., 0., 0., 0.],\n",
       "       [0., 0., 0., ..., 0., 0., 0.],\n",
       "       [0., 0., 0., ..., 0., 0., 0.]])"
      ]
     },
     "execution_count": 3,
     "metadata": {},
     "output_type": "execute_result"
    }
   ],
   "source": [
    "R = np.array(final_ratings_matrix)\n",
    "R"
   ]
  },
  {
   "cell_type": "markdown",
   "id": "1610ca57",
   "metadata": {},
   "source": [
    "# 子函数部分"
   ]
  },
  {
   "cell_type": "code",
   "execution_count": 4,
   "id": "e19afef9",
   "metadata": {},
   "outputs": [],
   "source": [
    "# Cosine\n",
    "def Sim_cos(R):\n",
    "    m,n = np.shape(R)\n",
    "    S = np.zeros((m,m))\n",
    "    for i in range(m):\n",
    "        for j in range(m):\n",
    "            S[i][j]=np.dot(R[i,:],R[j,:])/(norm(R[i,:])*norm(R[j,:]))\n",
    "    return S"
   ]
  },
  {
   "cell_type": "code",
   "execution_count": 5,
   "id": "29cd8217",
   "metadata": {},
   "outputs": [],
   "source": [
    "# 修正的余弦相似度\n",
    "def Sim_acos(R):\n",
    "    m,n = np.shape(R)\n",
    "    S = np.zeros((m,m))\n",
    "    a_item = R.sum(0)/(R != 0).sum(0) # 修正项:列-商品-均值（不计算0元素）\n",
    "    R1 = R-a_item\n",
    "    for i in range(m):\n",
    "        for j in range(m):\n",
    "            S[i][j]=np.dot(R1[i,:],R1[j,:])/(norm(R1[i,:])*norm(R1[j,:]))\n",
    "    return S"
   ]
  },
  {
   "cell_type": "code",
   "execution_count": 6,
   "id": "a3c50ba9",
   "metadata": {},
   "outputs": [],
   "source": [
    "# Pearson 相关系数\n",
    "def Sim_pearson(R):\n",
    "    m,n = np.shape(R)\n",
    "    S = np.zeros((m,m))\n",
    "    a_user = R.sum(1)/(R != 0).sum(1) # 修正项:行-用户-均值（不计算0元素）\n",
    "    R2 = R-a_user[:, np.newaxis] # 将a_user转为列向量\n",
    "    for i in range(m):\n",
    "        for j in range(m):\n",
    "            S[i][j]=np.dot(R2[i,:],R2[j,:])/(norm(R2[i,:])*norm(R2[j,:]))\n",
    "    return S"
   ]
  },
  {
   "cell_type": "code",
   "execution_count": 7,
   "id": "ce218250",
   "metadata": {},
   "outputs": [],
   "source": [
    "# Jacard相关系数\n",
    "def Sim_jacard(R):\n",
    "    m,n = np.shape(R)\n",
    "    S = np.zeros((m,m))\n",
    "    for i in range(m):\n",
    "        for j in range(m):\n",
    "            num = len(set(R[i,:]).intersection(set(R[j,:])))\n",
    "            denom = len(set(R[i,:]).union(set(R[j,:])))\n",
    "            S[i][j]=num/denom\n",
    "    return S"
   ]
  },
  {
   "cell_type": "code",
   "execution_count": 8,
   "id": "4b753f14",
   "metadata": {},
   "outputs": [],
   "source": [
    "def Sim_spearman(R):\n",
    "    R = pd.DataFrame(np.transpose(R))\n",
    "    S=R.corr('spearman')\n",
    "    return S"
   ]
  },
  {
   "cell_type": "code",
   "execution_count": 9,
   "id": "b3fcccf7",
   "metadata": {},
   "outputs": [],
   "source": [
    "def Sim_kendall(R):\n",
    "    R = pd.DataFrame(np.transpose(R))\n",
    "    S=R.corr('kendall')\n",
    "    return S"
   ]
  },
  {
   "cell_type": "code",
   "execution_count": 10,
   "id": "c525239b",
   "metadata": {},
   "outputs": [],
   "source": [
    "def Predication(R,S):\n",
    "    m,n =np.shape(R)\n",
    "    P = np.zeros((m,n))\n",
    "    a_user = R.sum(1)/(R != 0).sum(1)\n",
    "    for i in range(m):\n",
    "        for j in range(n):\n",
    "            if R[i][j]==0:\n",
    "                num = np.dot((R[:,j]-a_user),S[i,:])\n",
    "                denom = np.sum(abs(S[i,:]))\n",
    "                P[i][j]=a_user[i]+num/denom\n",
    "            elif R[i][j]!=0:\n",
    "                P[i][j]=R[i][j]\n",
    "    return P"
   ]
  },
  {
   "cell_type": "code",
   "execution_count": 11,
   "id": "501cf8f8",
   "metadata": {},
   "outputs": [],
   "source": [
    "def K_user(S,K):\n",
    "#为每一个用户找到最相似的K个用户 + 创建空的user_candidate保存最终K个相似用户的ID结果\n",
    "    user_candidate = {}\n",
    "    S_pd = pd.DataFrame(S)\n",
    "    #遍历每一行数据\n",
    "    for i in S_pd.index:\n",
    "        #取出每一列数据， 删除自己，按照相似度排序（降序）\n",
    "        _df = S_pd.loc[i].drop([i])\n",
    "        _df_sorted = _df.sort_values(ascending = False)\n",
    "        #排序之后切片取出前两个值，传入空dict\n",
    "        topK = list(_df_sorted.index[:K])\n",
    "        user_candidate[i] = topK\n",
    "    return user_candidate"
   ]
  },
  {
   "cell_type": "code",
   "execution_count": 12,
   "id": "6c937263",
   "metadata": {},
   "outputs": [],
   "source": [
    "def Rmse(user_candidate,R,P,K):\n",
    "    R_pd = pd.DataFrame(R)\n",
    "    P_pd = pd.DataFrame(P)\n",
    "    Avg_actual_ratings_list=[]\n",
    "    Avg_predicted_ratings_list=[]\n",
    "    for i in user_candidate: \n",
    "        a = R_pd.loc[i]                             #a存放每个用户的实际评分值,是dataframe形式的一行\n",
    "        Avg_actual_ratings = round(a[a!=0].mean(),2)   #遍历每个用户的实际评分值(评分为0不参与计算)，得到其均值\n",
    "        Avg_predicted_ratings = P_pd.loc[user_candidate[i]].mean().mean()  #遍历每个用户的相似度最高的前K个用户的预测评分值，得到其均值\n",
    "        Avg_actual_ratings_list.append(Avg_actual_ratings)   #Avg_actual_ratings_list 存放每个用户的实际评分均值\n",
    "        Avg_predicted_ratings_list.append(Avg_predicted_ratings)#Avg_predicted_ratings_list存放每个用户的K个相似用户的预测评分均值\n",
    "    rmse = (((np.array(Avg_predicted_ratings_list)-np.array(Avg_actual_ratings_list))**2).mean()/K)**0.5\n",
    "    rmse = round(rmse,4)\n",
    "    print('相似度 %d 邻居的RMSE值为: %f '%(K,rmse))\n",
    "    return rmse"
   ]
  },
  {
   "cell_type": "markdown",
   "id": "7476f91f",
   "metadata": {},
   "source": [
    "## 数据集计算--初始化"
   ]
  },
  {
   "cell_type": "code",
   "execution_count": 30,
   "id": "364169db",
   "metadata": {},
   "outputs": [],
   "source": [
    "x = np.array([10,20,30,40,50])\n",
    "#x = np.array([10,20,30,40,50,60,70,80,90,100,110,120,130,140,150,160,170,180,190,200,210,220,230,240,250])\n",
    "rmse_cos = []\n",
    "rmse_pea = []\n",
    "rmse_acos = []\n",
    "rmse_jaca = []\n",
    "\n",
    "rmse_spearman = []\n",
    "rmse_kendall = []\n",
    "\n",
    "iterations = x.shape[0]"
   ]
  },
  {
   "cell_type": "code",
   "execution_count": 31,
   "id": "ce03bd78",
   "metadata": {},
   "outputs": [
    {
     "name": "stdout",
     "output_type": "stream",
     "text": [
      "相似度 10 邻居的RMSE值为: 1.255300 \n",
      "相似度 20 邻居的RMSE值为: 0.895800 \n",
      "相似度 30 邻居的RMSE值为: 0.735700 \n",
      "相似度 40 邻居的RMSE值为: 0.639200 \n",
      "相似度 50 邻居的RMSE值为: 0.572600 \n",
      "CPU times: total: 21 s\n",
      "Wall time: 17.1 s\n"
     ]
    }
   ],
   "source": [
    "%%time\n",
    "for i in range(iterations):\n",
    "    K = x[i]\n",
    "    #cos\n",
    "    S = Sim_cos(R)\n",
    "    P = Predication(R,S)\n",
    "    user_candidate = K_user(S,K)\n",
    "    rmse = Rmse(user_candidate,R,P,K)\n",
    "    rmse_cos.append(rmse)"
   ]
  },
  {
   "cell_type": "code",
   "execution_count": 32,
   "id": "cf0a901c",
   "metadata": {},
   "outputs": [
    {
     "name": "stdout",
     "output_type": "stream",
     "text": [
      "相似度 10 邻居的RMSE值为: 1.457100 \n",
      "相似度 20 邻居的RMSE值为: 0.985400 \n",
      "相似度 30 邻居的RMSE值为: 0.785000 \n",
      "相似度 40 邻居的RMSE值为: 0.663300 \n",
      "相似度 50 邻居的RMSE值为: 0.578300 \n",
      "CPU times: total: 20.6 s\n",
      "Wall time: 16.7 s\n"
     ]
    }
   ],
   "source": [
    "%%time\n",
    "for i in range(iterations):\n",
    "    K = x[i]\n",
    "    #acos\n",
    "    S = Sim_acos(R)\n",
    "    P = Predication(R,S)\n",
    "    user_candidate = K_user(S,K)\n",
    "    rmse = Rmse(user_candidate,R,P,K)\n",
    "    rmse_acos.append(rmse)"
   ]
  },
  {
   "cell_type": "code",
   "execution_count": 33,
   "id": "88ed26c9",
   "metadata": {},
   "outputs": [
    {
     "name": "stdout",
     "output_type": "stream",
     "text": [
      "相似度 10 邻居的RMSE值为: 1.304500 \n",
      "相似度 20 邻居的RMSE值为: 0.925700 \n",
      "相似度 30 邻居的RMSE值为: 0.760400 \n",
      "相似度 40 邻居的RMSE值为: 0.651000 \n",
      "相似度 50 邻居的RMSE值为: 0.578400 \n",
      "CPU times: total: 20.4 s\n",
      "Wall time: 16.5 s\n"
     ]
    }
   ],
   "source": [
    "%%time\n",
    "for i in range(iterations):\n",
    "    K = x[i]\n",
    "    #pearson\n",
    "    S = Sim_pearson(R)\n",
    "    P = Predication(R,S)\n",
    "    user_candidate = K_user(S,K)\n",
    "    rmse = Rmse(user_candidate,R,P,K)\n",
    "    rmse_pea.append(rmse)"
   ]
  },
  {
   "cell_type": "code",
   "execution_count": 34,
   "id": "75bac7f5",
   "metadata": {},
   "outputs": [
    {
     "name": "stdout",
     "output_type": "stream",
     "text": [
      "相似度 10 邻居的RMSE值为: 1.241700 \n",
      "相似度 20 邻居的RMSE值为: 0.906200 \n",
      "相似度 30 邻居的RMSE值为: 0.740000 \n",
      "相似度 40 邻居的RMSE值为: 0.643200 \n",
      "相似度 50 邻居的RMSE值为: 0.570100 \n",
      "CPU times: total: 42.8 s\n",
      "Wall time: 42.8 s\n"
     ]
    }
   ],
   "source": [
    "%%time\n",
    "for i in range(iterations):\n",
    "    K = x[i]\n",
    "    #jacard\n",
    "    S = Sim_jacard(R)\n",
    "    P = Predication(R,S)\n",
    "    user_candidate = K_user(S,K)\n",
    "    rmse = Rmse(user_candidate,R,P,K)\n",
    "    rmse_jaca.append(rmse)"
   ]
  },
  {
   "cell_type": "code",
   "execution_count": 35,
   "id": "bb752c40",
   "metadata": {},
   "outputs": [
    {
     "name": "stdout",
     "output_type": "stream",
     "text": [
      "相似度 10 邻居的RMSE值为: 0.647100 \n",
      "相似度 20 邻居的RMSE值为: 0.466700 \n",
      "相似度 30 邻居的RMSE值为: 0.376200 \n",
      "相似度 40 邻居的RMSE值为: 0.310100 \n",
      "相似度 50 邻居的RMSE值为: 0.257100 \n",
      "CPU times: total: 15.6 s\n",
      "Wall time: 15.6 s\n"
     ]
    }
   ],
   "source": [
    "%%time\n",
    "for i in range(iterations):\n",
    "    K = x[i]\n",
    "    #spearman\n",
    "    S = Sim_spearman(R)\n",
    "    S1 = np.array(S)\n",
    "    P = Predication(R,S1)\n",
    "    user_candidate = K_user(S1,K)\n",
    "    rmse = Rmse(user_candidate,R,P,K)\n",
    "    rmse_spearman.append(rmse)"
   ]
  },
  {
   "cell_type": "code",
   "execution_count": 36,
   "id": "2dfd779f",
   "metadata": {},
   "outputs": [
    {
     "name": "stdout",
     "output_type": "stream",
     "text": [
      "相似度 10 邻居的RMSE值为: 0.651500 \n",
      "相似度 20 邻居的RMSE值为: 0.468700 \n",
      "相似度 30 邻居的RMSE值为: 0.377500 \n",
      "相似度 40 邻居的RMSE值为: 0.311300 \n",
      "相似度 50 邻居的RMSE值为: 0.258300 \n",
      "CPU times: total: 19.2 s\n",
      "Wall time: 19.3 s\n"
     ]
    }
   ],
   "source": [
    "%%time\n",
    "for i in range(iterations):\n",
    "    K = x[i]\n",
    "    #spearman\n",
    "    S = Sim_kendall(R)\n",
    "    S1 = np.array(S)\n",
    "    P = Predication(R,S1)\n",
    "    user_candidate = K_user(S1,K)\n",
    "    rmse = Rmse(user_candidate,R,P,K)\n",
    "    rmse_kendall.append(rmse)"
   ]
  },
  {
   "cell_type": "code",
   "execution_count": 37,
   "id": "b8b9fe91",
   "metadata": {},
   "outputs": [
    {
     "name": "stdout",
     "output_type": "stream",
     "text": [
      "rmse_cos的值为： [1.2553, 0.8958, 0.7357, 0.6392, 0.5726]\n",
      "rmse_acos的值为： [1.4571, 0.9854, 0.785, 0.6633, 0.5783]\n",
      "rmse_pearson的值为： [1.3045, 0.9257, 0.7604, 0.651, 0.5784]\n",
      "rmse_jacard的值为： [1.2417, 0.9062, 0.74, 0.6432, 0.5701]\n",
      "rmse_spearman的值为： [0.6471, 0.4667, 0.3762, 0.3101, 0.2571]\n",
      "rmse_kendall的值为： [0.6515, 0.4687, 0.3775, 0.3113, 0.2583]\n"
     ]
    }
   ],
   "source": [
    "print('rmse_cos的值为：',rmse_cos)\n",
    "print('rmse_acos的值为：',rmse_acos)\n",
    "print('rmse_pearson的值为：',rmse_pea)\n",
    "print('rmse_jacard的值为：',rmse_jaca)\n",
    "print('rmse_spearman的值为：',rmse_spearman)\n",
    "print('rmse_kendall的值为：',rmse_kendall)"
   ]
  },
  {
   "cell_type": "markdown",
   "id": "6ae7dfeb",
   "metadata": {},
   "source": [
    "# 剔除100以下\n",
    "x = [10, 20, 30, 40, 50, 55]\n",
    "\n",
    "y_cos = [1.2553, 0.8958, 0.7357, 0.6392, 0.5726]\n",
    "\n",
    "y_pea = [1.3045, 0.9257, 0.7604, 0.6510, 0.5784]\n",
    "\n",
    "y_acos = [1.4571, 0.9854, 0.7850, 0.6633, 0.5783]\n",
    "\n",
    "y_jaca = [1.2417, 0.9062, 0.7400, 0.6432, 0.5701]\n",
    "\n",
    "y_spearman = [0.6471, 0.4667, 0.3762, 0.3101, 0.2571]\n",
    "\n",
    "y_kendall = [0.6515, 0.4687, 0.3775, 0.3113, 0.2583]"
   ]
  },
  {
   "cell_type": "code",
   "execution_count": 38,
   "id": "ea871dec",
   "metadata": {},
   "outputs": [],
   "source": [
    "# 剔除100以下\n",
    "x = [10,20,30,40,50]\n",
    "y_cos = [1.2553, 0.8958, 0.7357, 0.6392, 0.5726]\n",
    "y_pea = [1.3045, 0.9257, 0.7604, 0.6510, 0.5784]\n",
    "y_acos =  [1.4571, 0.9854, 0.7850, 0.6633, 0.5783]\n",
    "y_jaca = [1.2417, 0.9062, 0.7400, 0.6432, 0.5701]\n",
    "y_spearman = [0.6471, 0.4667, 0.3762, 0.3101, 0.2571]\n",
    "y_kendall = [0.6515, 0.4687, 0.3775, 0.3113, 0.2583]\n"
   ]
  },
  {
   "cell_type": "code",
   "execution_count": 40,
   "id": "f232e7bc",
   "metadata": {},
   "outputs": [
    {
     "data": {
      "image/png": "[encoded data removed]",
      "text/plain": [
       "<Figure size 360x288 with 1 Axes>"
      ]
     },
     "metadata": {},
     "output_type": "display_data"
    }
   ],
   "source": [
    "plt.figure(figsize=(5,4))\n",
    "\n",
    "rc = {'font.sans-serif': 'SimHei',\n",
    "      'axes.unicode_minus': False}\n",
    "sns.set(context='notebook', style='ticks', rc=rc)\n",
    "sns.set_style('ticks')\n",
    "\n",
    "\n",
    "plt.rcParams['axes.unicode_minus'] = False # 用于显示中文 \n",
    "#plt.title('基于不同相似度的评分预测结果比较')  # 折线图标题\n",
    "plt.rcParams['font.sans-serif'] = ['SimHei']  # 显示汉字\n",
    "plt.xlabel('K值')  # x轴标题\n",
    "plt.ylabel('RMSE')  # y轴标题\n",
    "\n",
    "plt.plot(x,y_cos,marker='o',markersize=8,color='black',label='Cosine')\n",
    "plt.plot(x,y_pea,marker='x',markersize=15,color='grey',label='Pearson')\n",
    "plt.plot(x,y_acos,marker='d',markersize=10,color='gray',label='Acos')\n",
    "plt.plot(x,y_jaca,marker='^',markersize=10,color='gainsboro',label='Jacard')\n",
    "plt.plot(x,y_spearman,marker='X',markersize=15,color='dimgray',label='Spearman')\n",
    "plt.plot(x,y_kendall,marker='<',markersize=8,color='darkgrey',label='Kendall')\n",
    "plt.legend(bbox_to_anchor=(0.5,-0.3),loc=8,ncol=10)\n",
    "\n",
    "plt.savefig('E:\\Essay\\CF_result_3.jpg',dpi=400,bbox_inches='tight') # 将N=100的结果记为CF_result_3保存"
   ]
  },
  {
   "cell_type": "code",
   "execution_count": null,
   "id": "08973a08",
   "metadata": {},
   "outputs": [],
   "source": []
  },
  {
   "cell_type": "code",
   "execution_count": null,
   "id": "966d7b60",
   "metadata": {},
   "outputs": [],
   "source": []
  }
 ],
 "metadata": {
  "kernelspec": {
   "display_name": "Python 3 (ipykernel)",
   "language": "python",
   "name": "python3"
  },
  "language_info": {
   "codemirror_mode": {
    "name": "ipython",
    "version": 3
   },
   "file_extension": ".py",
   "mimetype": "text/x-python",
   "name": "python",
   "nbconvert_exporter": "python",
   "pygments_lexer": "ipython3",
   "version": "3.9.12"
  }
 },
 "nbformat": 4,
 "nbformat_minor": 5
}
